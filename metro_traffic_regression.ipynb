{
 "cells": [
  {
   "cell_type": "markdown",
   "metadata": {
    "id": "8mp5vQW5Xtw5"
   },
   "source": [
    "# Imports and Data Loading"
   ]
  },
  {
   "cell_type": "markdown",
   "metadata": {},
   "source": [
    "## Regression task related to metro traffic prediction\n",
    "Consists of: Data observation, Data preprocessing, Different feature selection methods, Different model performance"
   ]
  },
  {
   "cell_type": "markdown",
   "metadata": {},
   "source": [
    "Abstract: Hourly Minneapolis-St Paul, MN traffic volume for westbound I-94. Includes weather and holiday features from 2012-2018.¶\n",
    "https://archive.ics.uci.edu/ml/datasets/Metro+Interstate+Traffic+Volume\n",
    "\n",
    "holiday Categorical US National holidays plus regional holiday, Minnesota State Fair\n",
    "temp Numeric Average temp in kelvin\n",
    "rain_1h Numeric Amount in mm of rain that occurred in the hour\n",
    "snow_1h Numeric Amount in mm of snow that occurred in the hour\n",
    "clouds_all Numeric Percentage of cloud cover\n",
    "weather_main Categorical Short textual description of the current weather\n",
    "weather_description Categorical Longer textual description of the current weather\n",
    "date_time DateTime Hour of the data collected in local CST time\n",
    "traffic_volume Numeric Hourly I-94 ATR 301 reported westbound traffic volume"
   ]
  },
  {
   "cell_type": "code",
   "execution_count": 3,
   "metadata": {},
   "outputs": [],
   "source": [
    "import pandas as pd\n",
    "import sklearn \n",
    "import numpy as np\n",
    "import matplotlib.pyplot as plt"
   ]
  },
  {
   "cell_type": "code",
   "execution_count": 4,
   "metadata": {
    "id": "IMsqdgKrYugR"
   },
   "outputs": [
    {
     "data": {
      "text/html": [
       "<div>\n",
       "<style scoped>\n",
       "    .dataframe tbody tr th:only-of-type {\n",
       "        vertical-align: middle;\n",
       "    }\n",
       "\n",
       "    .dataframe tbody tr th {\n",
       "        vertical-align: top;\n",
       "    }\n",
       "\n",
       "    .dataframe thead th {\n",
       "        text-align: right;\n",
       "    }\n",
       "</style>\n",
       "<table border=\"1\" class=\"dataframe\">\n",
       "  <thead>\n",
       "    <tr style=\"text-align: right;\">\n",
       "      <th></th>\n",
       "      <th>holiday</th>\n",
       "      <th>temp</th>\n",
       "      <th>rain_1h</th>\n",
       "      <th>snow_1h</th>\n",
       "      <th>clouds_all</th>\n",
       "      <th>weather_main</th>\n",
       "      <th>weather_description</th>\n",
       "      <th>date_time</th>\n",
       "      <th>traffic_volume</th>\n",
       "    </tr>\n",
       "  </thead>\n",
       "  <tbody>\n",
       "    <tr>\n",
       "      <th>0</th>\n",
       "      <td>None</td>\n",
       "      <td>288.28</td>\n",
       "      <td>0.0</td>\n",
       "      <td>0.0</td>\n",
       "      <td>40.0</td>\n",
       "      <td>Clouds</td>\n",
       "      <td>scattered clouds</td>\n",
       "      <td>2012-10-02 09:00:00</td>\n",
       "      <td>5545.0</td>\n",
       "    </tr>\n",
       "    <tr>\n",
       "      <th>1</th>\n",
       "      <td>None</td>\n",
       "      <td>289.36</td>\n",
       "      <td>0.0</td>\n",
       "      <td>0.0</td>\n",
       "      <td>75.0</td>\n",
       "      <td>Clouds</td>\n",
       "      <td>broken clouds</td>\n",
       "      <td>2012-10-02 10:00:00</td>\n",
       "      <td>4516.0</td>\n",
       "    </tr>\n",
       "    <tr>\n",
       "      <th>2</th>\n",
       "      <td>None</td>\n",
       "      <td>289.58</td>\n",
       "      <td>0.0</td>\n",
       "      <td>0.0</td>\n",
       "      <td>90.0</td>\n",
       "      <td>Clouds</td>\n",
       "      <td>overcast clouds</td>\n",
       "      <td>2012-10-02 11:00:00</td>\n",
       "      <td>4767.0</td>\n",
       "    </tr>\n",
       "    <tr>\n",
       "      <th>3</th>\n",
       "      <td>None</td>\n",
       "      <td>290.13</td>\n",
       "      <td>0.0</td>\n",
       "      <td>0.0</td>\n",
       "      <td>90.0</td>\n",
       "      <td>Clouds</td>\n",
       "      <td>overcast clouds</td>\n",
       "      <td>2012-10-02 12:00:00</td>\n",
       "      <td>5026.0</td>\n",
       "    </tr>\n",
       "    <tr>\n",
       "      <th>4</th>\n",
       "      <td>None</td>\n",
       "      <td>291.14</td>\n",
       "      <td>0.0</td>\n",
       "      <td>0.0</td>\n",
       "      <td>75.0</td>\n",
       "      <td>Clouds</td>\n",
       "      <td>broken clouds</td>\n",
       "      <td>2012-10-02 13:00:00</td>\n",
       "      <td>4918.0</td>\n",
       "    </tr>\n",
       "    <tr>\n",
       "      <th>5</th>\n",
       "      <td>None</td>\n",
       "      <td>291.72</td>\n",
       "      <td>0.0</td>\n",
       "      <td>0.0</td>\n",
       "      <td>1.0</td>\n",
       "      <td>Clear</td>\n",
       "      <td>sky is clear</td>\n",
       "      <td>2012-10-02 14:00:00</td>\n",
       "      <td>5181.0</td>\n",
       "    </tr>\n",
       "    <tr>\n",
       "      <th>6</th>\n",
       "      <td>None</td>\n",
       "      <td>293.17</td>\n",
       "      <td>0.0</td>\n",
       "      <td>0.0</td>\n",
       "      <td>1.0</td>\n",
       "      <td>Clear</td>\n",
       "      <td>sky is clear</td>\n",
       "      <td>2012-10-02 15:00:00</td>\n",
       "      <td>5584.0</td>\n",
       "    </tr>\n",
       "    <tr>\n",
       "      <th>7</th>\n",
       "      <td>None</td>\n",
       "      <td>293.86</td>\n",
       "      <td>0.0</td>\n",
       "      <td>0.0</td>\n",
       "      <td>1.0</td>\n",
       "      <td>Clear</td>\n",
       "      <td>sky is clear</td>\n",
       "      <td>2012-10-02 16:00:00</td>\n",
       "      <td>6015.0</td>\n",
       "    </tr>\n",
       "    <tr>\n",
       "      <th>8</th>\n",
       "      <td>None</td>\n",
       "      <td>294.14</td>\n",
       "      <td>0.0</td>\n",
       "      <td>0.0</td>\n",
       "      <td>20.0</td>\n",
       "      <td>Clouds</td>\n",
       "      <td>few clouds</td>\n",
       "      <td>2012-10-02 17:00:00</td>\n",
       "      <td>5791.0</td>\n",
       "    </tr>\n",
       "    <tr>\n",
       "      <th>9</th>\n",
       "      <td>None</td>\n",
       "      <td>293.10</td>\n",
       "      <td>0.0</td>\n",
       "      <td>0.0</td>\n",
       "      <td>20.0</td>\n",
       "      <td>Clouds</td>\n",
       "      <td>few clouds</td>\n",
       "      <td>2012-10-02 18:00:00</td>\n",
       "      <td>4770.0</td>\n",
       "    </tr>\n",
       "  </tbody>\n",
       "</table>\n",
       "</div>"
      ],
      "text/plain": [
       "  holiday    temp  rain_1h  snow_1h  clouds_all weather_main  \\\n",
       "0    None  288.28      0.0      0.0        40.0       Clouds   \n",
       "1    None  289.36      0.0      0.0        75.0       Clouds   \n",
       "2    None  289.58      0.0      0.0        90.0       Clouds   \n",
       "3    None  290.13      0.0      0.0        90.0       Clouds   \n",
       "4    None  291.14      0.0      0.0        75.0       Clouds   \n",
       "5    None  291.72      0.0      0.0         1.0        Clear   \n",
       "6    None  293.17      0.0      0.0         1.0        Clear   \n",
       "7    None  293.86      0.0      0.0         1.0        Clear   \n",
       "8    None  294.14      0.0      0.0        20.0       Clouds   \n",
       "9    None  293.10      0.0      0.0        20.0       Clouds   \n",
       "\n",
       "  weather_description            date_time  traffic_volume  \n",
       "0    scattered clouds  2012-10-02 09:00:00          5545.0  \n",
       "1       broken clouds  2012-10-02 10:00:00          4516.0  \n",
       "2     overcast clouds  2012-10-02 11:00:00          4767.0  \n",
       "3     overcast clouds  2012-10-02 12:00:00          5026.0  \n",
       "4       broken clouds  2012-10-02 13:00:00          4918.0  \n",
       "5        sky is clear  2012-10-02 14:00:00          5181.0  \n",
       "6        sky is clear  2012-10-02 15:00:00          5584.0  \n",
       "7        sky is clear  2012-10-02 16:00:00          6015.0  \n",
       "8          few clouds  2012-10-02 17:00:00          5791.0  \n",
       "9          few clouds  2012-10-02 18:00:00          4770.0  "
      ]
     },
     "execution_count": 4,
     "metadata": {},
     "output_type": "execute_result"
    }
   ],
   "source": [
    "df = pd.read_csv('Metro_Interstate_Traffic_Volume.csv')\n",
    "\n",
    "df.head(10)"
   ]
  },
  {
   "cell_type": "code",
   "execution_count": 5,
   "metadata": {
    "colab": {
     "base_uri": "https://localhost:8080/"
    },
    "id": "Zui3i6ZOdo2D",
    "outputId": "afbc65c8-ee84-4325-d5c0-9ff307c78f68"
   },
   "outputs": [],
   "source": [
    "# columns/features names\n",
    "columns = df.columns"
   ]
  },
  {
   "cell_type": "code",
   "execution_count": 6,
   "metadata": {},
   "outputs": [
    {
     "data": {
      "text/plain": [
       "48204"
      ]
     },
     "execution_count": 6,
     "metadata": {},
     "output_type": "execute_result"
    }
   ],
   "source": [
    "#shape\n",
    "df.shape[0]"
   ]
  },
  {
   "cell_type": "markdown",
   "metadata": {
    "id": "RWqFpMWPdy3E"
   },
   "source": [
    "# Basic data exploration\n",
    "\n",
    "Lets do some BAZA"
   ]
  },
  {
   "cell_type": "code",
   "execution_count": 7,
   "metadata": {
    "colab": {
     "base_uri": "https://localhost:8080/"
    },
    "id": "pwlcBdvIwlfB",
    "outputId": "1471393c-97aa-437d-ce98-377d5d62556e"
   },
   "outputs": [
    {
     "data": {
      "text/plain": [
       "holiday                0\n",
       "temp                   1\n",
       "rain_1h                1\n",
       "snow_1h                0\n",
       "clouds_all             3\n",
       "weather_main           1\n",
       "weather_description    3\n",
       "date_time              0\n",
       "traffic_volume         5\n",
       "dtype: int64"
      ]
     },
     "execution_count": 7,
     "metadata": {},
     "output_type": "execute_result"
    }
   ],
   "source": [
    "df.isna().sum()"
   ]
  },
  {
   "cell_type": "code",
   "execution_count": 8,
   "metadata": {},
   "outputs": [],
   "source": [
    "# Now drop rows with NaN\n",
    "df.dropna(inplace=True)"
   ]
  },
  {
   "cell_type": "code",
   "execution_count": 9,
   "metadata": {
    "colab": {
     "base_uri": "https://localhost:8080/",
     "height": 300
    },
    "id": "bo6KibQ3x4Jw",
    "outputId": "55e2f0a4-7591-4829-dc61-25b645d56487"
   },
   "outputs": [
    {
     "data": {
      "text/html": [
       "<div>\n",
       "<style scoped>\n",
       "    .dataframe tbody tr th:only-of-type {\n",
       "        vertical-align: middle;\n",
       "    }\n",
       "\n",
       "    .dataframe tbody tr th {\n",
       "        vertical-align: top;\n",
       "    }\n",
       "\n",
       "    .dataframe thead th {\n",
       "        text-align: right;\n",
       "    }\n",
       "</style>\n",
       "<table border=\"1\" class=\"dataframe\">\n",
       "  <thead>\n",
       "    <tr style=\"text-align: right;\">\n",
       "      <th></th>\n",
       "      <th>temp</th>\n",
       "      <th>rain_1h</th>\n",
       "      <th>snow_1h</th>\n",
       "      <th>clouds_all</th>\n",
       "      <th>traffic_volume</th>\n",
       "    </tr>\n",
       "  </thead>\n",
       "  <tbody>\n",
       "    <tr>\n",
       "      <th>count</th>\n",
       "      <td>48190.000000</td>\n",
       "      <td>48190.000000</td>\n",
       "      <td>48190.000000</td>\n",
       "      <td>48190.000000</td>\n",
       "      <td>48190.000000</td>\n",
       "    </tr>\n",
       "    <tr>\n",
       "      <th>mean</th>\n",
       "      <td>281.201366</td>\n",
       "      <td>0.334356</td>\n",
       "      <td>0.000222</td>\n",
       "      <td>49.369267</td>\n",
       "      <td>3259.859079</td>\n",
       "    </tr>\n",
       "    <tr>\n",
       "      <th>std</th>\n",
       "      <td>13.337406</td>\n",
       "      <td>44.795638</td>\n",
       "      <td>0.008169</td>\n",
       "      <td>39.016127</td>\n",
       "      <td>1986.972809</td>\n",
       "    </tr>\n",
       "    <tr>\n",
       "      <th>min</th>\n",
       "      <td>0.000000</td>\n",
       "      <td>0.000000</td>\n",
       "      <td>0.000000</td>\n",
       "      <td>0.000000</td>\n",
       "      <td>0.000000</td>\n",
       "    </tr>\n",
       "    <tr>\n",
       "      <th>25%</th>\n",
       "      <td>272.160000</td>\n",
       "      <td>0.000000</td>\n",
       "      <td>0.000000</td>\n",
       "      <td>1.000000</td>\n",
       "      <td>1192.250000</td>\n",
       "    </tr>\n",
       "    <tr>\n",
       "      <th>50%</th>\n",
       "      <td>282.440000</td>\n",
       "      <td>0.000000</td>\n",
       "      <td>0.000000</td>\n",
       "      <td>64.000000</td>\n",
       "      <td>3380.000000</td>\n",
       "    </tr>\n",
       "    <tr>\n",
       "      <th>75%</th>\n",
       "      <td>291.800000</td>\n",
       "      <td>0.000000</td>\n",
       "      <td>0.000000</td>\n",
       "      <td>90.000000</td>\n",
       "      <td>4933.000000</td>\n",
       "    </tr>\n",
       "    <tr>\n",
       "      <th>max</th>\n",
       "      <td>310.070000</td>\n",
       "      <td>9831.300000</td>\n",
       "      <td>0.510000</td>\n",
       "      <td>100.000000</td>\n",
       "      <td>7280.000000</td>\n",
       "    </tr>\n",
       "  </tbody>\n",
       "</table>\n",
       "</div>"
      ],
      "text/plain": [
       "               temp       rain_1h       snow_1h    clouds_all  traffic_volume\n",
       "count  48190.000000  48190.000000  48190.000000  48190.000000    48190.000000\n",
       "mean     281.201366      0.334356      0.000222     49.369267     3259.859079\n",
       "std       13.337406     44.795638      0.008169     39.016127     1986.972809\n",
       "min        0.000000      0.000000      0.000000      0.000000        0.000000\n",
       "25%      272.160000      0.000000      0.000000      1.000000     1192.250000\n",
       "50%      282.440000      0.000000      0.000000     64.000000     3380.000000\n",
       "75%      291.800000      0.000000      0.000000     90.000000     4933.000000\n",
       "max      310.070000   9831.300000      0.510000    100.000000     7280.000000"
      ]
     },
     "execution_count": 9,
     "metadata": {},
     "output_type": "execute_result"
    }
   ],
   "source": [
    "# Display basic data statistics using .describe()\n",
    "df.describe()"
   ]
  },
  {
   "cell_type": "code",
   "execution_count": 10,
   "metadata": {
    "colab": {
     "base_uri": "https://localhost:8080/"
    },
    "id": "uCxMUIbnx-QD",
    "outputId": "0232e59d-e775-4118-ce07-cb94a96b5b60"
   },
   "outputs": [
    {
     "name": "stdout",
     "output_type": "stream",
     "text": [
      "holiday             ,    12,object              \n",
      "temp                ,  5843,float64             \n",
      "rain_1h             ,   372,float64             \n",
      "snow_1h             ,    12,float64             \n",
      "clouds_all          ,    60,float64             \n",
      "weather_main        ,    11,object              \n",
      "weather_description ,    38,object              \n",
      "date_time           , 40562,object              \n",
      "traffic_volume      ,  6704,float64             \n"
     ]
    }
   ],
   "source": [
    "#number of unique values for every column\n",
    "a = [print('{:20s},{:6d},{:20s}'.format(names,i,str(j))) for names,i,j in zip(columns,df.nunique(),df.dtypes)]"
   ]
  },
  {
   "cell_type": "code",
   "execution_count": 11,
   "metadata": {},
   "outputs": [
    {
     "data": {
      "text/plain": [
       "array(['None', 'Columbus Day', 'Veterans Day', 'Thanksgiving Day',\n",
       "       'Christmas Day', 'New Years Day', 'Washingtons Birthday',\n",
       "       'Memorial Day', 'Independence Day', 'State Fair', 'Labor Day',\n",
       "       'Martin Luther King Jr Day'], dtype=object)"
      ]
     },
     "execution_count": 11,
     "metadata": {},
     "output_type": "execute_result"
    }
   ],
   "source": [
    "df['holiday'].unique()"
   ]
  },
  {
   "cell_type": "code",
   "execution_count": 12,
   "metadata": {},
   "outputs": [
    {
     "data": {
      "text/html": [
       "<div>\n",
       "<style scoped>\n",
       "    .dataframe tbody tr th:only-of-type {\n",
       "        vertical-align: middle;\n",
       "    }\n",
       "\n",
       "    .dataframe tbody tr th {\n",
       "        vertical-align: top;\n",
       "    }\n",
       "\n",
       "    .dataframe thead th {\n",
       "        text-align: right;\n",
       "    }\n",
       "</style>\n",
       "<table border=\"1\" class=\"dataframe\">\n",
       "  <thead>\n",
       "    <tr style=\"text-align: right;\">\n",
       "      <th></th>\n",
       "      <th>holiday</th>\n",
       "      <th>temp</th>\n",
       "      <th>rain_1h</th>\n",
       "      <th>snow_1h</th>\n",
       "      <th>clouds_all</th>\n",
       "      <th>weather_main</th>\n",
       "      <th>weather_description</th>\n",
       "      <th>date_time</th>\n",
       "      <th>traffic_volume</th>\n",
       "    </tr>\n",
       "  </thead>\n",
       "  <tbody>\n",
       "    <tr>\n",
       "      <th>11611</th>\n",
       "      <td>Martin Luther King Jr Day</td>\n",
       "      <td>271.79</td>\n",
       "      <td>0.0</td>\n",
       "      <td>0.0</td>\n",
       "      <td>64.0</td>\n",
       "      <td>Clouds</td>\n",
       "      <td>broken clouds</td>\n",
       "      <td>2014-01-20 00:00:00</td>\n",
       "      <td>480.0</td>\n",
       "    </tr>\n",
       "    <tr>\n",
       "      <th>30080</th>\n",
       "      <td>Martin Luther King Jr Day</td>\n",
       "      <td>266.08</td>\n",
       "      <td>0.0</td>\n",
       "      <td>0.0</td>\n",
       "      <td>1.0</td>\n",
       "      <td>Mist</td>\n",
       "      <td>mist</td>\n",
       "      <td>2017-01-16 00:00:00</td>\n",
       "      <td>698.0</td>\n",
       "    </tr>\n",
       "    <tr>\n",
       "      <th>30081</th>\n",
       "      <td>Martin Luther King Jr Day</td>\n",
       "      <td>266.08</td>\n",
       "      <td>0.0</td>\n",
       "      <td>0.0</td>\n",
       "      <td>1.0</td>\n",
       "      <td>Haze</td>\n",
       "      <td>haze</td>\n",
       "      <td>2017-01-16 00:00:00</td>\n",
       "      <td>698.0</td>\n",
       "    </tr>\n",
       "    <tr>\n",
       "      <th>40655</th>\n",
       "      <td>Martin Luther King Jr Day</td>\n",
       "      <td>262.54</td>\n",
       "      <td>0.0</td>\n",
       "      <td>0.0</td>\n",
       "      <td>90.0</td>\n",
       "      <td>Snow</td>\n",
       "      <td>light snow</td>\n",
       "      <td>2018-01-15 00:00:00</td>\n",
       "      <td>600.0</td>\n",
       "    </tr>\n",
       "    <tr>\n",
       "      <th>40656</th>\n",
       "      <td>Martin Luther King Jr Day</td>\n",
       "      <td>262.54</td>\n",
       "      <td>0.0</td>\n",
       "      <td>0.0</td>\n",
       "      <td>90.0</td>\n",
       "      <td>Mist</td>\n",
       "      <td>mist</td>\n",
       "      <td>2018-01-15 00:00:00</td>\n",
       "      <td>600.0</td>\n",
       "    </tr>\n",
       "    <tr>\n",
       "      <th>40657</th>\n",
       "      <td>Martin Luther King Jr Day</td>\n",
       "      <td>262.54</td>\n",
       "      <td>0.0</td>\n",
       "      <td>0.0</td>\n",
       "      <td>90.0</td>\n",
       "      <td>Haze</td>\n",
       "      <td>haze</td>\n",
       "      <td>2018-01-15 00:00:00</td>\n",
       "      <td>600.0</td>\n",
       "    </tr>\n",
       "  </tbody>\n",
       "</table>\n",
       "</div>"
      ],
      "text/plain": [
       "                         holiday    temp  rain_1h  snow_1h  clouds_all  \\\n",
       "11611  Martin Luther King Jr Day  271.79      0.0      0.0        64.0   \n",
       "30080  Martin Luther King Jr Day  266.08      0.0      0.0         1.0   \n",
       "30081  Martin Luther King Jr Day  266.08      0.0      0.0         1.0   \n",
       "40655  Martin Luther King Jr Day  262.54      0.0      0.0        90.0   \n",
       "40656  Martin Luther King Jr Day  262.54      0.0      0.0        90.0   \n",
       "40657  Martin Luther King Jr Day  262.54      0.0      0.0        90.0   \n",
       "\n",
       "      weather_main weather_description            date_time  traffic_volume  \n",
       "11611       Clouds       broken clouds  2014-01-20 00:00:00           480.0  \n",
       "30080         Mist                mist  2017-01-16 00:00:00           698.0  \n",
       "30081         Haze                haze  2017-01-16 00:00:00           698.0  \n",
       "40655         Snow          light snow  2018-01-15 00:00:00           600.0  \n",
       "40656         Mist                mist  2018-01-15 00:00:00           600.0  \n",
       "40657         Haze                haze  2018-01-15 00:00:00           600.0  "
      ]
     },
     "execution_count": 12,
     "metadata": {},
     "output_type": "execute_result"
    }
   ],
   "source": [
    "df[df['holiday'] == 'Martin Luther King Jr Day']"
   ]
  },
  {
   "cell_type": "markdown",
   "metadata": {},
   "source": [
    "## As you see holiday column indicates only begining of day, next time slots are indicated like df['holiday'] = None. In real life people are celebrating all day long, so it deffinetly will affect on result"
   ]
  },
  {
   "cell_type": "code",
   "execution_count": 13,
   "metadata": {},
   "outputs": [
    {
     "data": {
      "text/html": [
       "<div>\n",
       "<style scoped>\n",
       "    .dataframe tbody tr th:only-of-type {\n",
       "        vertical-align: middle;\n",
       "    }\n",
       "\n",
       "    .dataframe tbody tr th {\n",
       "        vertical-align: top;\n",
       "    }\n",
       "\n",
       "    .dataframe thead th {\n",
       "        text-align: right;\n",
       "    }\n",
       "</style>\n",
       "<table border=\"1\" class=\"dataframe\">\n",
       "  <thead>\n",
       "    <tr style=\"text-align: right;\">\n",
       "      <th></th>\n",
       "      <th>holiday</th>\n",
       "      <th>temp</th>\n",
       "      <th>rain_1h</th>\n",
       "      <th>snow_1h</th>\n",
       "      <th>clouds_all</th>\n",
       "      <th>weather_main</th>\n",
       "      <th>weather_description</th>\n",
       "      <th>date_time</th>\n",
       "      <th>traffic_volume</th>\n",
       "      <th>is_holiday</th>\n",
       "    </tr>\n",
       "  </thead>\n",
       "  <tbody>\n",
       "    <tr>\n",
       "      <th>0</th>\n",
       "      <td>None</td>\n",
       "      <td>288.28</td>\n",
       "      <td>0.0</td>\n",
       "      <td>0.0</td>\n",
       "      <td>40.0</td>\n",
       "      <td>Clouds</td>\n",
       "      <td>scattered clouds</td>\n",
       "      <td>2012-10-02 09:00:00</td>\n",
       "      <td>5545.0</td>\n",
       "      <td>0</td>\n",
       "    </tr>\n",
       "    <tr>\n",
       "      <th>1</th>\n",
       "      <td>None</td>\n",
       "      <td>289.36</td>\n",
       "      <td>0.0</td>\n",
       "      <td>0.0</td>\n",
       "      <td>75.0</td>\n",
       "      <td>Clouds</td>\n",
       "      <td>broken clouds</td>\n",
       "      <td>2012-10-02 10:00:00</td>\n",
       "      <td>4516.0</td>\n",
       "      <td>0</td>\n",
       "    </tr>\n",
       "    <tr>\n",
       "      <th>2</th>\n",
       "      <td>None</td>\n",
       "      <td>289.58</td>\n",
       "      <td>0.0</td>\n",
       "      <td>0.0</td>\n",
       "      <td>90.0</td>\n",
       "      <td>Clouds</td>\n",
       "      <td>overcast clouds</td>\n",
       "      <td>2012-10-02 11:00:00</td>\n",
       "      <td>4767.0</td>\n",
       "      <td>0</td>\n",
       "    </tr>\n",
       "    <tr>\n",
       "      <th>3</th>\n",
       "      <td>None</td>\n",
       "      <td>290.13</td>\n",
       "      <td>0.0</td>\n",
       "      <td>0.0</td>\n",
       "      <td>90.0</td>\n",
       "      <td>Clouds</td>\n",
       "      <td>overcast clouds</td>\n",
       "      <td>2012-10-02 12:00:00</td>\n",
       "      <td>5026.0</td>\n",
       "      <td>0</td>\n",
       "    </tr>\n",
       "    <tr>\n",
       "      <th>4</th>\n",
       "      <td>None</td>\n",
       "      <td>291.14</td>\n",
       "      <td>0.0</td>\n",
       "      <td>0.0</td>\n",
       "      <td>75.0</td>\n",
       "      <td>Clouds</td>\n",
       "      <td>broken clouds</td>\n",
       "      <td>2012-10-02 13:00:00</td>\n",
       "      <td>4918.0</td>\n",
       "      <td>0</td>\n",
       "    </tr>\n",
       "  </tbody>\n",
       "</table>\n",
       "</div>"
      ],
      "text/plain": [
       "  holiday    temp  rain_1h  snow_1h  clouds_all weather_main  \\\n",
       "0    None  288.28      0.0      0.0        40.0       Clouds   \n",
       "1    None  289.36      0.0      0.0        75.0       Clouds   \n",
       "2    None  289.58      0.0      0.0        90.0       Clouds   \n",
       "3    None  290.13      0.0      0.0        90.0       Clouds   \n",
       "4    None  291.14      0.0      0.0        75.0       Clouds   \n",
       "\n",
       "  weather_description            date_time  traffic_volume  is_holiday  \n",
       "0    scattered clouds  2012-10-02 09:00:00          5545.0           0  \n",
       "1       broken clouds  2012-10-02 10:00:00          4516.0           0  \n",
       "2     overcast clouds  2012-10-02 11:00:00          4767.0           0  \n",
       "3     overcast clouds  2012-10-02 12:00:00          5026.0           0  \n",
       "4       broken clouds  2012-10-02 13:00:00          4918.0           0  "
      ]
     },
     "execution_count": 13,
     "metadata": {},
     "output_type": "execute_result"
    }
   ],
   "source": [
    "# bool column `is_holiday` which indicates whether the day of the time slot falls on any holiday\n",
    "\n",
    "def holiday_split(x):\n",
    "    year,month,day = x.split('-')\n",
    "    time = day[2:]\n",
    "    day = day[:2]\n",
    "    return [day,month,year]\n",
    "# Getting list of holiday dates\n",
    "lst_hol =list(df[df['holiday']!='None'].date_time.apply(holiday_split))\n",
    "# list of all dates\n",
    "lst_days = list(df['date_time'].apply(holiday_split))\n",
    "res = []\n",
    "# Checking every date on holiday factor\n",
    "for i in lst_days:\n",
    "    if lst_hol.count(i)>0:\n",
    "         res.append(1)  #is Holiday\n",
    "    else:\n",
    "         res.append(0)  # not a Holiday\n",
    "\n",
    "df = df.reset_index(drop=True) # refreshing indexes bcs of NaN drop, otherwise values will be mixed\n",
    "true_is_holiday = pd.Series(res)\n",
    "df['is_holiday'] = true_is_holiday \n",
    "df.head()"
   ]
  },
  {
   "cell_type": "code",
   "execution_count": 14,
   "metadata": {},
   "outputs": [
    {
     "data": {
      "image/png": "[encoded data removed]",
      "text/plain": [
       "<Figure size 679.861x600 with 1 Axes>"
      ]
     },
     "metadata": {},
     "output_type": "display_data"
    }
   ],
   "source": [
    "import seaborn as sns\n",
    "g = sns.catplot(\n",
    "    data=df, kind=\"bar\",\n",
    "    x=\"weather_main\", y=\"traffic_volume\", hue=\"is_holiday\",\n",
    "    errorbar=None, palette=\"dark\", alpha=.6, height=6\n",
    ")\n",
    "g.despine(left=True)\n",
    "g.set_axis_labels(\"weather\", \"traffic_volume\")\n",
    "g.legend.set_title(\"\")\n",
    "plt.xticks(rotation=45)\n",
    "plt.show()"
   ]
  },
  {
   "cell_type": "code",
   "execution_count": 15,
   "metadata": {
    "colab": {
     "base_uri": "https://localhost:8080/"
    },
    "id": "fPJMcqYQyD9y",
    "outputId": "d1ba998f-0b2b-469d-c6f0-0304fcb5a3f9"
   },
   "outputs": [
    {
     "name": "stdout",
     "output_type": "stream",
     "text": [
      "WEATHER_MAIN\n",
      "Clouds          15159\n",
      "Clear           13384\n",
      "Mist             5950\n",
      "Rain             5671\n",
      "Snow             2876\n",
      "Drizzle          1821\n",
      "Haze             1359\n",
      "Thunderstorm     1034\n",
      "Fog               912\n",
      "Smoke              20\n",
      "Squall              4\n",
      "Name: weather_main, dtype: int64\n",
      "------------------------------------------------------------\n",
      "WEATHER DESCRIPTION\n",
      "sky is clear                           11658\n",
      "mist                                    5950\n",
      "overcast clouds                         5081\n",
      "broken clouds                           4665\n",
      "scattered clouds                        3458\n",
      "light rain                              3371\n",
      "few clouds                              1955\n",
      "light snow                              1946\n",
      "Sky is Clear                            1726\n",
      "moderate rain                           1664\n",
      "haze                                    1359\n",
      "light intensity drizzle                 1100\n",
      "fog                                      912\n",
      "proximity thunderstorm                   673\n",
      "drizzle                                  651\n",
      "heavy snow                               616\n",
      "heavy intensity rain                     467\n",
      "snow                                     293\n",
      "proximity shower rain                    136\n",
      "thunderstorm                             125\n",
      "heavy intensity drizzle                   64\n",
      "thunderstorm with heavy rain              63\n",
      "thunderstorm with light rain              54\n",
      "proximity thunderstorm with rain          52\n",
      "thunderstorm with rain                    37\n",
      "smoke                                     20\n",
      "very heavy rain                           18\n",
      "thunderstorm with light drizzle           15\n",
      "proximity thunderstorm with drizzle       13\n",
      "light intensity shower rain               13\n",
      "light shower snow                         11\n",
      "light rain and snow                        6\n",
      "shower drizzle                             6\n",
      "SQUALLS                                    4\n",
      "sleet                                      3\n",
      "thunderstorm with drizzle                  2\n",
      "freezing rain                              2\n",
      "shower snow                                1\n",
      "Name: weather_description, dtype: int64\n"
     ]
    }
   ],
   "source": [
    "# frequency of the values in different categorical columns \n",
    "print('WEATHER_MAIN')\n",
    "print(df['weather_main'].value_counts().sort_values(ascending=False))\n",
    "\n",
    "print('---'*20)\n",
    "print('WEATHER DESCRIPTION')\n",
    "print(df['weather_description'].value_counts().sort_values(ascending=False))"
   ]
  },
  {
   "cell_type": "code",
   "execution_count": 16,
   "metadata": {},
   "outputs": [
    {
     "data": {
      "text/plain": [
       "weather_description\n",
       "broken clouds       4665\n",
       "few clouds          1955\n",
       "overcast clouds     5081\n",
       "scattered clouds    3458\n",
       "Name: date_time, dtype: int64"
      ]
     },
     "execution_count": 16,
     "metadata": {},
     "output_type": "execute_result"
    }
   ],
   "source": [
    "#example of weather description for Cloud weather\n",
    "df[df['weather_main']=='Clouds'].groupby('weather_description')['date_time'].count()"
   ]
  },
  {
   "cell_type": "code",
   "execution_count": 17,
   "metadata": {
    "colab": {
     "base_uri": "https://localhost:8080/"
    },
    "id": "71Kx1GnoyG7v",
    "outputId": "4748f2d3-ca71-45e7-8438-728672463e43"
   },
   "outputs": [
    {
     "name": "stdout",
     "output_type": "stream",
     "text": [
      "holiday                 True\n",
      "temp                   False\n",
      "rain_1h                False\n",
      "snow_1h                False\n",
      "clouds_all             False\n",
      "weather_main            True\n",
      "weather_description     True\n",
      "date_time               True\n",
      "traffic_volume         False\n",
      "is_holiday             False\n",
      "dtype: bool\n"
     ]
    }
   ],
   "source": [
    "# Categorical features\n",
    "print(df.dtypes=='object')"
   ]
  },
  {
   "cell_type": "code",
   "execution_count": 18,
   "metadata": {},
   "outputs": [
    {
     "data": {
      "text/plain": [
       "<Axes: xlabel='temp', ylabel='Count'>"
      ]
     },
     "execution_count": 18,
     "metadata": {},
     "output_type": "execute_result"
    },
    {
     "data": {
      "image/png": "[encoded data removed]",
      "text/plain": [
       "<Figure size 640x480 with 1 Axes>"
      ]
     },
     "metadata": {},
     "output_type": "display_data"
    }
   ],
   "source": [
    "sns.histplot(df['temp'])"
   ]
  },
  {
   "cell_type": "markdown",
   "metadata": {},
   "source": [
    "## There are some error, there temp is 0K, dream of all physicist"
   ]
  },
  {
   "cell_type": "code",
   "execution_count": 19,
   "metadata": {},
   "outputs": [
    {
     "data": {
      "text/plain": [
       "<Axes: xlabel='temp', ylabel='Count'>"
      ]
     },
     "execution_count": 19,
     "metadata": {},
     "output_type": "execute_result"
    },
    {
     "data": {
      "image/png": "[encoded data removed]",
      "text/plain": [
       "<Figure size 640x480 with 1 Axes>"
      ]
     },
     "metadata": {},
     "output_type": "display_data"
    }
   ],
   "source": [
    "df.drop(df[df['temp']<200].index,inplace=True)\n",
    "sns.histplot(df['temp'])"
   ]
  },
  {
   "cell_type": "markdown",
   "metadata": {},
   "source": [
    "# New columns"
   ]
  },
  {
   "cell_type": "code",
   "execution_count": 199,
   "metadata": {
    "id": "nxbj9Po2Le18"
   },
   "outputs": [
    {
     "data": {
      "text/html": [
       "<div>\n",
       "<style scoped>\n",
       "    .dataframe tbody tr th:only-of-type {\n",
       "        vertical-align: middle;\n",
       "    }\n",
       "\n",
       "    .dataframe tbody tr th {\n",
       "        vertical-align: top;\n",
       "    }\n",
       "\n",
       "    .dataframe thead th {\n",
       "        text-align: right;\n",
       "    }\n",
       "</style>\n",
       "<table border=\"1\" class=\"dataframe\">\n",
       "  <thead>\n",
       "    <tr style=\"text-align: right;\">\n",
       "      <th></th>\n",
       "      <th>holiday</th>\n",
       "      <th>temp</th>\n",
       "      <th>rain_1h</th>\n",
       "      <th>snow_1h</th>\n",
       "      <th>clouds_all</th>\n",
       "      <th>weather_main</th>\n",
       "      <th>weather_description</th>\n",
       "      <th>date_time</th>\n",
       "      <th>traffic_volume</th>\n",
       "      <th>is_holiday</th>\n",
       "      <th>temp_in_celcius</th>\n",
       "      <th>hot</th>\n",
       "      <th>cold</th>\n",
       "      <th>rainy_and_cloudy</th>\n",
       "      <th>traffic_cat</th>\n",
       "      <th>weekday</th>\n",
       "      <th>hour</th>\n",
       "      <th>month</th>\n",
       "      <th>year</th>\n",
       "    </tr>\n",
       "  </thead>\n",
       "  <tbody>\n",
       "    <tr>\n",
       "      <th>0</th>\n",
       "      <td>None</td>\n",
       "      <td>288.28</td>\n",
       "      <td>0.0</td>\n",
       "      <td>0.0</td>\n",
       "      <td>40.0</td>\n",
       "      <td>Clouds</td>\n",
       "      <td>scattered clouds</td>\n",
       "      <td>2012-10-02 09:00:00</td>\n",
       "      <td>5545.0</td>\n",
       "      <td>0</td>\n",
       "      <td>15.28</td>\n",
       "      <td>0</td>\n",
       "      <td>0</td>\n",
       "      <td>0</td>\n",
       "      <td>5</td>\n",
       "      <td>1</td>\n",
       "      <td>9</td>\n",
       "      <td>10</td>\n",
       "      <td>2012</td>\n",
       "    </tr>\n",
       "    <tr>\n",
       "      <th>1</th>\n",
       "      <td>None</td>\n",
       "      <td>289.36</td>\n",
       "      <td>0.0</td>\n",
       "      <td>0.0</td>\n",
       "      <td>75.0</td>\n",
       "      <td>Clouds</td>\n",
       "      <td>broken clouds</td>\n",
       "      <td>2012-10-02 10:00:00</td>\n",
       "      <td>4516.0</td>\n",
       "      <td>0</td>\n",
       "      <td>16.36</td>\n",
       "      <td>0</td>\n",
       "      <td>0</td>\n",
       "      <td>0</td>\n",
       "      <td>4</td>\n",
       "      <td>1</td>\n",
       "      <td>10</td>\n",
       "      <td>10</td>\n",
       "      <td>2012</td>\n",
       "    </tr>\n",
       "    <tr>\n",
       "      <th>2</th>\n",
       "      <td>None</td>\n",
       "      <td>289.58</td>\n",
       "      <td>0.0</td>\n",
       "      <td>0.0</td>\n",
       "      <td>90.0</td>\n",
       "      <td>Clouds</td>\n",
       "      <td>overcast clouds</td>\n",
       "      <td>2012-10-02 11:00:00</td>\n",
       "      <td>4767.0</td>\n",
       "      <td>0</td>\n",
       "      <td>16.58</td>\n",
       "      <td>0</td>\n",
       "      <td>0</td>\n",
       "      <td>0</td>\n",
       "      <td>4</td>\n",
       "      <td>1</td>\n",
       "      <td>11</td>\n",
       "      <td>10</td>\n",
       "      <td>2012</td>\n",
       "    </tr>\n",
       "    <tr>\n",
       "      <th>3</th>\n",
       "      <td>None</td>\n",
       "      <td>290.13</td>\n",
       "      <td>0.0</td>\n",
       "      <td>0.0</td>\n",
       "      <td>90.0</td>\n",
       "      <td>Clouds</td>\n",
       "      <td>overcast clouds</td>\n",
       "      <td>2012-10-02 12:00:00</td>\n",
       "      <td>5026.0</td>\n",
       "      <td>0</td>\n",
       "      <td>17.13</td>\n",
       "      <td>0</td>\n",
       "      <td>0</td>\n",
       "      <td>0</td>\n",
       "      <td>4</td>\n",
       "      <td>1</td>\n",
       "      <td>12</td>\n",
       "      <td>10</td>\n",
       "      <td>2012</td>\n",
       "    </tr>\n",
       "    <tr>\n",
       "      <th>4</th>\n",
       "      <td>None</td>\n",
       "      <td>291.14</td>\n",
       "      <td>0.0</td>\n",
       "      <td>0.0</td>\n",
       "      <td>75.0</td>\n",
       "      <td>Clouds</td>\n",
       "      <td>broken clouds</td>\n",
       "      <td>2012-10-02 13:00:00</td>\n",
       "      <td>4918.0</td>\n",
       "      <td>0</td>\n",
       "      <td>18.14</td>\n",
       "      <td>0</td>\n",
       "      <td>0</td>\n",
       "      <td>0</td>\n",
       "      <td>4</td>\n",
       "      <td>1</td>\n",
       "      <td>13</td>\n",
       "      <td>10</td>\n",
       "      <td>2012</td>\n",
       "    </tr>\n",
       "  </tbody>\n",
       "</table>\n",
       "</div>"
      ],
      "text/plain": [
       "  holiday    temp  rain_1h  snow_1h  clouds_all weather_main  \\\n",
       "0    None  288.28      0.0      0.0        40.0       Clouds   \n",
       "1    None  289.36      0.0      0.0        75.0       Clouds   \n",
       "2    None  289.58      0.0      0.0        90.0       Clouds   \n",
       "3    None  290.13      0.0      0.0        90.0       Clouds   \n",
       "4    None  291.14      0.0      0.0        75.0       Clouds   \n",
       "\n",
       "  weather_description            date_time  traffic_volume  is_holiday  \\\n",
       "0    scattered clouds  2012-10-02 09:00:00          5545.0           0   \n",
       "1       broken clouds  2012-10-02 10:00:00          4516.0           0   \n",
       "2     overcast clouds  2012-10-02 11:00:00          4767.0           0   \n",
       "3     overcast clouds  2012-10-02 12:00:00          5026.0           0   \n",
       "4       broken clouds  2012-10-02 13:00:00          4918.0           0   \n",
       "\n",
       "   temp_in_celcius  hot  cold  rainy_and_cloudy  traffic_cat  weekday  hour  \\\n",
       "0            15.28    0     0                 0            5        1     9   \n",
       "1            16.36    0     0                 0            4        1    10   \n",
       "2            16.58    0     0                 0            4        1    11   \n",
       "3            17.13    0     0                 0            4        1    12   \n",
       "4            18.14    0     0                 0            4        1    13   \n",
       "\n",
       "   month  year  \n",
       "0     10  2012  \n",
       "1     10  2012  \n",
       "2     10  2012  \n",
       "3     10  2012  \n",
       "4     10  2012  "
      ]
     },
     "execution_count": 199,
     "metadata": {},
     "output_type": "execute_result"
    }
   ],
   "source": [
    "#  `temp_in_celcius` column from the existing `temp` (kelvin\n",
    "df['temp_in_celcius'] = df['temp'] - 273\n",
    "# bool column `hot` which indicates whether the time slot was hot (temp_celsius > 27)\n",
    "df['hot'] = df['temp_in_celcius'].apply(lambda x: 1*(x>27))\n",
    "# bool column `hot` which indicates whether the time slot was cold (temp_celsius > 27)\n",
    "df['cold'] = df['temp_in_celcius'].apply(lambda x: 1*(x<-10))\n",
    "# bool column `rainy_and_cloudy` which indicates whether it was rainy (>0.1) AND cloudy (>50)\n",
    "df['rainy_and_cloudy'] = df[['rain_1h','clouds_all']].apply(lambda x: 1*((x[0]>0.1 and x[1]>50)),axis=1)\n",
    "\n",
    "\n",
    "# new column `traffic_cat` by splitting a `traffic_volume` into 5 ([1..5]) distinct intervals: 0 < x <=20%,\n",
    "# 20% < x <= 40%, ... 80% < x <= 100% percentiles. You could use `.quantile()` to compute percentiles.\n",
    "quant_lvl = list(df['traffic_volume'].quantile([0.2,0.4,0.6,0.8,1]))\n",
    "def cat(x):\n",
    "    lvl = quant_lvl\n",
    "    i=0\n",
    "    while x>lvl[i]:\n",
    "        i+=1\n",
    "    return i+1\n",
    "df['traffic_cat'] = df['traffic_volume'].apply(cat)\n",
    "df.head()"
   ]
  },
  {
   "cell_type": "markdown",
   "metadata": {
    "id": "ezvSnhPRfFXM"
   },
   "source": [
    "# Data observation by time"
   ]
  },
  {
   "cell_type": "code",
   "execution_count": 200,
   "metadata": {
    "id": "ZghL5CmKTBZc"
   },
   "outputs": [],
   "source": [
    "#hour,weekday,month feature\n",
    "df['weekday'] = pd.to_datetime(df['date_time']).dt.weekday\n",
    "df['hour'] = pd.to_datetime(df['date_time']).dt.hour\n",
    "df['month'] = pd.to_datetime(df['date_time']).dt.month\n",
    "df['year'] = pd.to_datetime(df['date_time']).dt.year"
   ]
  },
  {
   "cell_type": "code",
   "execution_count": 201,
   "metadata": {
    "colab": {
     "base_uri": "https://localhost:8080/"
    },
    "id": "UU_wYcyETK9T",
    "outputId": "4869f3a1-0740-4830-e014-70e1da8ba8e0"
   },
   "outputs": [
    {
     "data": {
      "text/plain": [
       "Text(0.5, 1.0, 'By weekday')"
      ]
     },
     "execution_count": 201,
     "metadata": {},
     "output_type": "execute_result"
    },
    {
     "data": {
      "image/png": "[encoded data removed]",
      "text/plain": [
       "<Figure size 500x500 with 1 Axes>"
      ]
     },
     "metadata": {},
     "output_type": "display_data"
    }
   ],
   "source": [
    "g = sns.catplot(\n",
    "    data=df, kind=\"box\",\n",
    "    x=\"weekday\", y=\"traffic_volume\", medianprops={'color':'red'})\n",
    "g.despine(left=True)\n",
    "g.set_axis_labels(\"weakday\", \"traffic_volume\")\n",
    "plt.xticks(rotation=45)\n",
    "plt.title('By weekday')\n"
   ]
  },
  {
   "cell_type": "code",
   "execution_count": 202,
   "metadata": {},
   "outputs": [
    {
     "data": {
      "image/png": "[encoded data removed]",
      "text/plain": [
       "<Figure size 500x500 with 1 Axes>"
      ]
     },
     "metadata": {},
     "output_type": "display_data"
    }
   ],
   "source": [
    "g = sns.catplot(\n",
    "    data=df, kind=\"box\",\n",
    "    x=\"month\", y=\"traffic_volume\", medianprops={'color':'red'})\n",
    "g.despine(left=True)\n",
    "g.set_axis_labels(\"month\", \"traffic_volume\")\n",
    "plt.xticks(rotation=45)\n",
    "plt.title('By month')\n",
    "plt.show();"
   ]
  },
  {
   "cell_type": "code",
   "execution_count": 203,
   "metadata": {},
   "outputs": [
    {
     "data": {
      "image/png": "[encoded data removed]",
      "text/plain": [
       "<Figure size 500x500 with 1 Axes>"
      ]
     },
     "metadata": {},
     "output_type": "display_data"
    }
   ],
   "source": [
    "g = sns.catplot(\n",
    "    data=df, kind=\"box\",\n",
    "    x=\"year\", y=\"traffic_volume\", medianprops={'color':'red'})\n",
    "g.despine(left=True)\n",
    "g.set_axis_labels(\"year\", \"traffic_volume\")\n",
    "plt.xticks(rotation=45)\n",
    "plt.title('By year')\n",
    "plt.show();"
   ]
  },
  {
   "cell_type": "code",
   "execution_count": 204,
   "metadata": {},
   "outputs": [
    {
     "data": {
      "image/png": "[encoded data removed]",
      "text/plain": [
       "<Figure size 500x500 with 1 Axes>"
      ]
     },
     "metadata": {},
     "output_type": "display_data"
    }
   ],
   "source": [
    "g = sns.catplot(\n",
    "    data=df, kind=\"box\",\n",
    "    x=\"hour\", y=\"traffic_volume\", medianprops={'color':'red'})\n",
    "g.despine(left=True)\n",
    "g.set_axis_labels(\"hour\", \"traffic_volume\")\n",
    "plt.xticks(rotation=45)\n",
    "plt.title('By hour')\n",
    "plt.show();"
   ]
  },
  {
   "cell_type": "markdown",
   "metadata": {
    "id": "_Y3IX6U1fOVI"
   },
   "source": [
    "# Building a regression model\n",
    "\n"
   ]
  },
  {
   "cell_type": "markdown",
   "metadata": {},
   "source": [
    "\n",
    "1. Train on [0], test on [1]\n",
    "2. Train on [0,1], test on [2]\n",
    "3. Train on [0, 1, 2], test on [3]\n",
    "4. Train on [0, 1, 2, 3], test on [4]\n"
   ]
  },
  {
   "cell_type": "code",
   "execution_count": 213,
   "metadata": {},
   "outputs": [],
   "source": [
    "from sklearn.preprocessing import OneHotEncoder\n",
    "\n",
    "ohe=OneHotEncoder(sparse_output=False)\n",
    "\n",
    "categorical_columns = ['weather_main','weather_description','is_holiday','hot','cold','rainy_and_cloudy',\n",
    "                       'weekday','hour','month','year']\n",
    "\n",
    "encoded_features = pd.DataFrame(ohe.fit_transform(df[categorical_columns]))"
   ]
  },
  {
   "cell_type": "code",
   "execution_count": 214,
   "metadata": {},
   "outputs": [],
   "source": [
    "names = ohe.get_feature_names_out(categorical_columns)"
   ]
  },
  {
   "cell_type": "code",
   "execution_count": 215,
   "metadata": {},
   "outputs": [],
   "source": [
    "df_cat = encoded_features.set_axis(names,axis=1)"
   ]
  },
  {
   "cell_type": "code",
   "execution_count": 216,
   "metadata": {},
   "outputs": [],
   "source": [
    "from sklearn.preprocessing import MinMaxScaler\n",
    "\n",
    "scaler = MinMaxScaler()\n",
    "num_columns = ['rain_1h','snow_1h','clouds_all','temp_in_celcius']\n",
    "df_num = pd.DataFrame(scaler.fit_transform(df[num_columns]),columns=num_columns)"
   ]
  },
  {
   "cell_type": "code",
   "execution_count": 217,
   "metadata": {},
   "outputs": [],
   "source": [
    "X = pd.concat([df_num,df_cat],axis=1, join=\"inner\")"
   ]
  },
  {
   "cell_type": "code",
   "execution_count": 218,
   "metadata": {},
   "outputs": [
    {
     "data": {
      "text/html": [
       "<div>\n",
       "<style scoped>\n",
       "    .dataframe tbody tr th:only-of-type {\n",
       "        vertical-align: middle;\n",
       "    }\n",
       "\n",
       "    .dataframe tbody tr th {\n",
       "        vertical-align: top;\n",
       "    }\n",
       "\n",
       "    .dataframe thead th {\n",
       "        text-align: right;\n",
       "    }\n",
       "</style>\n",
       "<table border=\"1\" class=\"dataframe\">\n",
       "  <thead>\n",
       "    <tr style=\"text-align: right;\">\n",
       "      <th></th>\n",
       "      <th>rain_1h</th>\n",
       "      <th>snow_1h</th>\n",
       "      <th>clouds_all</th>\n",
       "      <th>temp_in_celcius</th>\n",
       "      <th>weather_main_Clear</th>\n",
       "      <th>weather_main_Clouds</th>\n",
       "      <th>weather_main_Drizzle</th>\n",
       "      <th>weather_main_Fog</th>\n",
       "      <th>weather_main_Haze</th>\n",
       "      <th>weather_main_Mist</th>\n",
       "      <th>...</th>\n",
       "      <th>month_10</th>\n",
       "      <th>month_11</th>\n",
       "      <th>month_12</th>\n",
       "      <th>year_2012</th>\n",
       "      <th>year_2013</th>\n",
       "      <th>year_2014</th>\n",
       "      <th>year_2015</th>\n",
       "      <th>year_2016</th>\n",
       "      <th>year_2017</th>\n",
       "      <th>year_2018</th>\n",
       "    </tr>\n",
       "  </thead>\n",
       "  <tbody>\n",
       "    <tr>\n",
       "      <th>0</th>\n",
       "      <td>0.0</td>\n",
       "      <td>0.0</td>\n",
       "      <td>0.40</td>\n",
       "      <td>0.673215</td>\n",
       "      <td>0.0</td>\n",
       "      <td>1.0</td>\n",
       "      <td>0.0</td>\n",
       "      <td>0.0</td>\n",
       "      <td>0.0</td>\n",
       "      <td>0.0</td>\n",
       "      <td>...</td>\n",
       "      <td>1.0</td>\n",
       "      <td>0.0</td>\n",
       "      <td>0.0</td>\n",
       "      <td>1.0</td>\n",
       "      <td>0.0</td>\n",
       "      <td>0.0</td>\n",
       "      <td>0.0</td>\n",
       "      <td>0.0</td>\n",
       "      <td>0.0</td>\n",
       "      <td>0.0</td>\n",
       "    </tr>\n",
       "    <tr>\n",
       "      <th>1</th>\n",
       "      <td>0.0</td>\n",
       "      <td>0.0</td>\n",
       "      <td>0.75</td>\n",
       "      <td>0.689412</td>\n",
       "      <td>0.0</td>\n",
       "      <td>1.0</td>\n",
       "      <td>0.0</td>\n",
       "      <td>0.0</td>\n",
       "      <td>0.0</td>\n",
       "      <td>0.0</td>\n",
       "      <td>...</td>\n",
       "      <td>1.0</td>\n",
       "      <td>0.0</td>\n",
       "      <td>0.0</td>\n",
       "      <td>1.0</td>\n",
       "      <td>0.0</td>\n",
       "      <td>0.0</td>\n",
       "      <td>0.0</td>\n",
       "      <td>0.0</td>\n",
       "      <td>0.0</td>\n",
       "      <td>0.0</td>\n",
       "    </tr>\n",
       "    <tr>\n",
       "      <th>2</th>\n",
       "      <td>0.0</td>\n",
       "      <td>0.0</td>\n",
       "      <td>0.90</td>\n",
       "      <td>0.692711</td>\n",
       "      <td>0.0</td>\n",
       "      <td>1.0</td>\n",
       "      <td>0.0</td>\n",
       "      <td>0.0</td>\n",
       "      <td>0.0</td>\n",
       "      <td>0.0</td>\n",
       "      <td>...</td>\n",
       "      <td>1.0</td>\n",
       "      <td>0.0</td>\n",
       "      <td>0.0</td>\n",
       "      <td>1.0</td>\n",
       "      <td>0.0</td>\n",
       "      <td>0.0</td>\n",
       "      <td>0.0</td>\n",
       "      <td>0.0</td>\n",
       "      <td>0.0</td>\n",
       "      <td>0.0</td>\n",
       "    </tr>\n",
       "    <tr>\n",
       "      <th>3</th>\n",
       "      <td>0.0</td>\n",
       "      <td>0.0</td>\n",
       "      <td>0.90</td>\n",
       "      <td>0.700960</td>\n",
       "      <td>0.0</td>\n",
       "      <td>1.0</td>\n",
       "      <td>0.0</td>\n",
       "      <td>0.0</td>\n",
       "      <td>0.0</td>\n",
       "      <td>0.0</td>\n",
       "      <td>...</td>\n",
       "      <td>1.0</td>\n",
       "      <td>0.0</td>\n",
       "      <td>0.0</td>\n",
       "      <td>1.0</td>\n",
       "      <td>0.0</td>\n",
       "      <td>0.0</td>\n",
       "      <td>0.0</td>\n",
       "      <td>0.0</td>\n",
       "      <td>0.0</td>\n",
       "      <td>0.0</td>\n",
       "    </tr>\n",
       "    <tr>\n",
       "      <th>4</th>\n",
       "      <td>0.0</td>\n",
       "      <td>0.0</td>\n",
       "      <td>0.75</td>\n",
       "      <td>0.716107</td>\n",
       "      <td>0.0</td>\n",
       "      <td>1.0</td>\n",
       "      <td>0.0</td>\n",
       "      <td>0.0</td>\n",
       "      <td>0.0</td>\n",
       "      <td>0.0</td>\n",
       "      <td>...</td>\n",
       "      <td>1.0</td>\n",
       "      <td>0.0</td>\n",
       "      <td>0.0</td>\n",
       "      <td>1.0</td>\n",
       "      <td>0.0</td>\n",
       "      <td>0.0</td>\n",
       "      <td>0.0</td>\n",
       "      <td>0.0</td>\n",
       "      <td>0.0</td>\n",
       "      <td>0.0</td>\n",
       "    </tr>\n",
       "    <tr>\n",
       "      <th>...</th>\n",
       "      <td>...</td>\n",
       "      <td>...</td>\n",
       "      <td>...</td>\n",
       "      <td>...</td>\n",
       "      <td>...</td>\n",
       "      <td>...</td>\n",
       "      <td>...</td>\n",
       "      <td>...</td>\n",
       "      <td>...</td>\n",
       "      <td>...</td>\n",
       "      <td>...</td>\n",
       "      <td>...</td>\n",
       "      <td>...</td>\n",
       "      <td>...</td>\n",
       "      <td>...</td>\n",
       "      <td>...</td>\n",
       "      <td>...</td>\n",
       "      <td>...</td>\n",
       "      <td>...</td>\n",
       "      <td>...</td>\n",
       "      <td>...</td>\n",
       "    </tr>\n",
       "    <tr>\n",
       "      <th>48175</th>\n",
       "      <td>0.0</td>\n",
       "      <td>0.0</td>\n",
       "      <td>0.75</td>\n",
       "      <td>0.600780</td>\n",
       "      <td>0.0</td>\n",
       "      <td>1.0</td>\n",
       "      <td>0.0</td>\n",
       "      <td>0.0</td>\n",
       "      <td>0.0</td>\n",
       "      <td>0.0</td>\n",
       "      <td>...</td>\n",
       "      <td>0.0</td>\n",
       "      <td>0.0</td>\n",
       "      <td>0.0</td>\n",
       "      <td>0.0</td>\n",
       "      <td>0.0</td>\n",
       "      <td>0.0</td>\n",
       "      <td>0.0</td>\n",
       "      <td>0.0</td>\n",
       "      <td>0.0</td>\n",
       "      <td>1.0</td>\n",
       "    </tr>\n",
       "    <tr>\n",
       "      <th>48176</th>\n",
       "      <td>0.0</td>\n",
       "      <td>0.0</td>\n",
       "      <td>0.90</td>\n",
       "      <td>0.590432</td>\n",
       "      <td>0.0</td>\n",
       "      <td>1.0</td>\n",
       "      <td>0.0</td>\n",
       "      <td>0.0</td>\n",
       "      <td>0.0</td>\n",
       "      <td>0.0</td>\n",
       "      <td>...</td>\n",
       "      <td>0.0</td>\n",
       "      <td>0.0</td>\n",
       "      <td>0.0</td>\n",
       "      <td>0.0</td>\n",
       "      <td>0.0</td>\n",
       "      <td>0.0</td>\n",
       "      <td>0.0</td>\n",
       "      <td>0.0</td>\n",
       "      <td>0.0</td>\n",
       "      <td>1.0</td>\n",
       "    </tr>\n",
       "    <tr>\n",
       "      <th>48177</th>\n",
       "      <td>0.0</td>\n",
       "      <td>0.0</td>\n",
       "      <td>0.90</td>\n",
       "      <td>0.589982</td>\n",
       "      <td>0.0</td>\n",
       "      <td>0.0</td>\n",
       "      <td>0.0</td>\n",
       "      <td>0.0</td>\n",
       "      <td>0.0</td>\n",
       "      <td>0.0</td>\n",
       "      <td>...</td>\n",
       "      <td>0.0</td>\n",
       "      <td>0.0</td>\n",
       "      <td>0.0</td>\n",
       "      <td>0.0</td>\n",
       "      <td>0.0</td>\n",
       "      <td>0.0</td>\n",
       "      <td>0.0</td>\n",
       "      <td>0.0</td>\n",
       "      <td>0.0</td>\n",
       "      <td>1.0</td>\n",
       "    </tr>\n",
       "    <tr>\n",
       "      <th>48178</th>\n",
       "      <td>0.0</td>\n",
       "      <td>0.0</td>\n",
       "      <td>0.90</td>\n",
       "      <td>0.580384</td>\n",
       "      <td>0.0</td>\n",
       "      <td>1.0</td>\n",
       "      <td>0.0</td>\n",
       "      <td>0.0</td>\n",
       "      <td>0.0</td>\n",
       "      <td>0.0</td>\n",
       "      <td>...</td>\n",
       "      <td>0.0</td>\n",
       "      <td>0.0</td>\n",
       "      <td>0.0</td>\n",
       "      <td>0.0</td>\n",
       "      <td>0.0</td>\n",
       "      <td>0.0</td>\n",
       "      <td>0.0</td>\n",
       "      <td>0.0</td>\n",
       "      <td>0.0</td>\n",
       "      <td>1.0</td>\n",
       "    </tr>\n",
       "    <tr>\n",
       "      <th>48179</th>\n",
       "      <td>0.0</td>\n",
       "      <td>0.0</td>\n",
       "      <td>0.90</td>\n",
       "      <td>0.580834</td>\n",
       "      <td>0.0</td>\n",
       "      <td>1.0</td>\n",
       "      <td>0.0</td>\n",
       "      <td>0.0</td>\n",
       "      <td>0.0</td>\n",
       "      <td>0.0</td>\n",
       "      <td>...</td>\n",
       "      <td>0.0</td>\n",
       "      <td>0.0</td>\n",
       "      <td>0.0</td>\n",
       "      <td>0.0</td>\n",
       "      <td>0.0</td>\n",
       "      <td>0.0</td>\n",
       "      <td>0.0</td>\n",
       "      <td>0.0</td>\n",
       "      <td>0.0</td>\n",
       "      <td>1.0</td>\n",
       "    </tr>\n",
       "  </tbody>\n",
       "</table>\n",
       "<p>48180 rows × 111 columns</p>\n",
       "</div>"
      ],
      "text/plain": [
       "       rain_1h  snow_1h  clouds_all  temp_in_celcius  weather_main_Clear  \\\n",
       "0          0.0      0.0        0.40         0.673215                 0.0   \n",
       "1          0.0      0.0        0.75         0.689412                 0.0   \n",
       "2          0.0      0.0        0.90         0.692711                 0.0   \n",
       "3          0.0      0.0        0.90         0.700960                 0.0   \n",
       "4          0.0      0.0        0.75         0.716107                 0.0   \n",
       "...        ...      ...         ...              ...                 ...   \n",
       "48175      0.0      0.0        0.75         0.600780                 0.0   \n",
       "48176      0.0      0.0        0.90         0.590432                 0.0   \n",
       "48177      0.0      0.0        0.90         0.589982                 0.0   \n",
       "48178      0.0      0.0        0.90         0.580384                 0.0   \n",
       "48179      0.0      0.0        0.90         0.580834                 0.0   \n",
       "\n",
       "       weather_main_Clouds  weather_main_Drizzle  weather_main_Fog  \\\n",
       "0                      1.0                   0.0               0.0   \n",
       "1                      1.0                   0.0               0.0   \n",
       "2                      1.0                   0.0               0.0   \n",
       "3                      1.0                   0.0               0.0   \n",
       "4                      1.0                   0.0               0.0   \n",
       "...                    ...                   ...               ...   \n",
       "48175                  1.0                   0.0               0.0   \n",
       "48176                  1.0                   0.0               0.0   \n",
       "48177                  0.0                   0.0               0.0   \n",
       "48178                  1.0                   0.0               0.0   \n",
       "48179                  1.0                   0.0               0.0   \n",
       "\n",
       "       weather_main_Haze  weather_main_Mist  ...  month_10  month_11  \\\n",
       "0                    0.0                0.0  ...       1.0       0.0   \n",
       "1                    0.0                0.0  ...       1.0       0.0   \n",
       "2                    0.0                0.0  ...       1.0       0.0   \n",
       "3                    0.0                0.0  ...       1.0       0.0   \n",
       "4                    0.0                0.0  ...       1.0       0.0   \n",
       "...                  ...                ...  ...       ...       ...   \n",
       "48175                0.0                0.0  ...       0.0       0.0   \n",
       "48176                0.0                0.0  ...       0.0       0.0   \n",
       "48177                0.0                0.0  ...       0.0       0.0   \n",
       "48178                0.0                0.0  ...       0.0       0.0   \n",
       "48179                0.0                0.0  ...       0.0       0.0   \n",
       "\n",
       "       month_12  year_2012  year_2013  year_2014  year_2015  year_2016  \\\n",
       "0           0.0        1.0        0.0        0.0        0.0        0.0   \n",
       "1           0.0        1.0        0.0        0.0        0.0        0.0   \n",
       "2           0.0        1.0        0.0        0.0        0.0        0.0   \n",
       "3           0.0        1.0        0.0        0.0        0.0        0.0   \n",
       "4           0.0        1.0        0.0        0.0        0.0        0.0   \n",
       "...         ...        ...        ...        ...        ...        ...   \n",
       "48175       0.0        0.0        0.0        0.0        0.0        0.0   \n",
       "48176       0.0        0.0        0.0        0.0        0.0        0.0   \n",
       "48177       0.0        0.0        0.0        0.0        0.0        0.0   \n",
       "48178       0.0        0.0        0.0        0.0        0.0        0.0   \n",
       "48179       0.0        0.0        0.0        0.0        0.0        0.0   \n",
       "\n",
       "       year_2017  year_2018  \n",
       "0            0.0        0.0  \n",
       "1            0.0        0.0  \n",
       "2            0.0        0.0  \n",
       "3            0.0        0.0  \n",
       "4            0.0        0.0  \n",
       "...          ...        ...  \n",
       "48175        0.0        1.0  \n",
       "48176        0.0        1.0  \n",
       "48177        0.0        1.0  \n",
       "48178        0.0        1.0  \n",
       "48179        0.0        1.0  \n",
       "\n",
       "[48180 rows x 111 columns]"
      ]
     },
     "execution_count": 218,
     "metadata": {},
     "output_type": "execute_result"
    }
   ],
   "source": [
    "X"
   ]
  },
  {
   "cell_type": "code",
   "execution_count": 219,
   "metadata": {},
   "outputs": [],
   "source": [
    "y = df['traffic_volume']\n",
    "y_cat = df['traffic_cat'] # for classification task"
   ]
  },
  {
   "cell_type": "markdown",
   "metadata": {},
   "source": [
    "## Feature selection"
   ]
  },
  {
   "cell_type": "markdown",
   "metadata": {},
   "source": [
    "## K-Best based"
   ]
  },
  {
   "cell_type": "code",
   "execution_count": 220,
   "metadata": {},
   "outputs": [],
   "source": [
    "from sklearn.feature_selection import SelectKBest\n",
    "from sklearn.feature_selection import f_regression, mutual_info_regression\n",
    "\n",
    "columns = X.columns\n",
    "sel_kBest_f = SelectKBest(f_regression, k=30)\n",
    "#sel_kBest_MIR = SelectKBest(mutual_info_regression, k=40) takes to many time to compute for 122 feature\n",
    "\n",
    "X_kBest_f = sel_kBest_f.fit_transform(X, y)"
   ]
  },
  {
   "cell_type": "code",
   "execution_count": 115,
   "metadata": {},
   "outputs": [
    {
     "name": "stdout",
     "output_type": "stream",
     "text": [
      "['temp_in_celcius' 'weather_main_Clouds'\n",
      " 'weather_description_scattered clouds' 'hot_0' 'hot_1' 'weekday_3'\n",
      " 'weekday_4' 'weekday_5' 'weekday_6' 'hour_0' 'hour_1' 'hour_2' 'hour_3'\n",
      " 'hour_4' 'hour_5' 'hour_6' 'hour_7' 'hour_8' 'hour_9' 'hour_10' 'hour_11'\n",
      " 'hour_12' 'hour_13' 'hour_14' 'hour_15' 'hour_16' 'hour_17' 'hour_18'\n",
      " 'hour_22' 'hour_23']\n"
     ]
    }
   ],
   "source": [
    "k_best_names = sel_kBest_f.get_feature_names_out(X.columns)\n",
    "print(k_best_names)\n",
    "X_kBest = X[k_best_names]"
   ]
  },
  {
   "cell_type": "markdown",
   "metadata": {},
   "source": [
    "# Lasso based"
   ]
  },
  {
   "cell_type": "code",
   "execution_count": 35,
   "metadata": {},
   "outputs": [],
   "source": [
    "from sklearn.linear_model import LassoCV\n",
    "from sklearn.feature_selection import SelectFromModel\n",
    "lasso = LassoCV(cv=10)\n",
    "lasso.fit(X,y)\n",
    "coef_abs = np.abs(lasso.coef_)\n",
    "feature_idx = np.argsort(coef_abs)[::-1][:30]\n",
    "selected_features = columns[feature_idx]"
   ]
  },
  {
   "cell_type": "code",
   "execution_count": 36,
   "metadata": {},
   "outputs": [
    {
     "data": {
      "text/plain": [
       "Index(['hour_3', 'hour_2', 'hour_1', 'hour_4', 'hour_0', 'hour_23', 'hour_5',\n",
       "       'hour_22', 'hour_21', 'hour_16', 'hour_20', 'weekday_6', 'hour_17',\n",
       "       'hour_15', 'is_holiday_0', 'hour_19', 'weekday_5', 'hour_14', 'hour_7',\n",
       "       'hour_12', 'hour_13', 'hour_8', 'temp_in_celcius', 'hour_11',\n",
       "       'weather_description_snow', 'hour_9', 'month_7', 'month_12',\n",
       "       'weekday_4', 'weekday_3'],\n",
       "      dtype='object')"
      ]
     },
     "execution_count": 36,
     "metadata": {},
     "output_type": "execute_result"
    }
   ],
   "source": [
    "selected_features"
   ]
  },
  {
   "cell_type": "code",
   "execution_count": 37,
   "metadata": {},
   "outputs": [],
   "source": [
    "X_lasso = X[selected_features]"
   ]
  },
  {
   "cell_type": "markdown",
   "metadata": {},
   "source": [
    "## Train/Test"
   ]
  },
  {
   "cell_type": "code",
   "execution_count": 38,
   "metadata": {},
   "outputs": [
    {
     "name": "stdout",
     "output_type": "stream",
     "text": [
      "TRAIN: [   0    1    2 ... 8027 8028 8029] TEST: [ 8030  8031  8032 ... 16057 16058 16059]\n",
      "TRAIN: [    0     1     2 ... 16057 16058 16059] TEST: [16060 16061 16062 ... 24087 24088 24089]\n",
      "TRAIN: [    0     1     2 ... 24087 24088 24089] TEST: [24090 24091 24092 ... 32117 32118 32119]\n",
      "TRAIN: [    0     1     2 ... 32117 32118 32119] TEST: [32120 32121 32122 ... 40147 40148 40149]\n",
      "TRAIN: [    0     1     2 ... 40147 40148 40149] TEST: [40150 40151 40152 ... 48177 48178 48179]\n"
     ]
    }
   ],
   "source": [
    "from sklearn.model_selection import TimeSeriesSplit\n",
    "from sklearn.model_selection import GridSearchCV\n",
    "\n",
    "tss = TimeSeriesSplit(n_splits=5)\n",
    "for train_index, test_index in tss.split(X):\n",
    "    print(\"TRAIN:\", train_index, \"TEST:\", test_index)\n",
    "    X_train, X_test = X.iloc[train_index], X.iloc[test_index]\n",
    "    y_train, y_test = y.iloc[train_index], y.iloc[test_index]"
   ]
  },
  {
   "cell_type": "code",
   "execution_count": 54,
   "metadata": {
    "colab": {
     "base_uri": "https://localhost:8080/"
    },
    "id": "xqubzK5rYQA9",
    "outputId": "d9853eb1-2a3c-4eb2-e01a-aaceeb6d5b96"
   },
   "outputs": [
    {
     "name": "stdout",
     "output_type": "stream",
     "text": [
      "R^2 Lasso Based\n",
      "---------------------\n",
      "Lasso\n",
      "0.8349645427038064\n",
      "{'alpha': 0.6497435897435898}\n",
      "Time: 6.991946697235107\n",
      "---------------------\n",
      "Ridge\n",
      "0.8349148416495602\n",
      "{'alpha': 2, 'solver': 'lsqr'}\n",
      "Time: 3.879809617996216\n",
      "---------------------\n",
      "RandomForestRegressor\n",
      "0.9182984178555925\n",
      "{'max_depth': 25, 'n_estimators': 200}\n",
      "Time: 407.94666743278503\n",
      "---------------------\n",
      "KNeighborsRegressor\n",
      "0.9192153811456947\n",
      "{'algorithm': 'auto', 'n_neighbors': 10}\n",
      "Time: 94.15389561653137\n",
      "---------------------\n",
      "DecisionTreeRegressor\n",
      "0.9048673335046455\n",
      "{'max_depth': 20}\n",
      "Time: 4.418219566345215\n"
     ]
    }
   ],
   "source": [
    "from sklearn.linear_model import Ridge\n",
    "from sklearn.linear_model import Lasso\n",
    "from sklearn.ensemble import RandomForestRegressor\n",
    "from sklearn.neighbors import KNeighborsRegressor\n",
    "from sklearn.tree import DecisionTreeRegressor\n",
    "\n",
    "import time\n",
    "\n",
    "lasso_param_grid = {'alpha':np.linspace(0.01,5,40)}\n",
    "\n",
    "ridge_param_grid = {'alpha':[.1,.3,.5,1,2,3,4,5,10],\n",
    "                   'solver':['auto', 'svd', 'lsqr']}\n",
    "\n",
    "RFR_param_grid  = {'n_estimators':[100,200],\n",
    "                  'max_depth':[None,10,25]}\n",
    "\n",
    "KNR_param_grid = {'n_neighbors':[10,20,30],\n",
    "                 'algorithm':['auto', 'kd_tree']}\n",
    "\n",
    "DTR_param_grid = {'max_depth': [i for i in range(5,50,5)]}\n",
    "\n",
    "lasso = Lasso()\n",
    "ridge = Ridge()\n",
    "RFR = RandomForestRegressor()\n",
    "KNR = KNeighborsRegressor()\n",
    "DTR = DecisionTreeRegressor()\n",
    "\n",
    "def get_cv_scores(model,X,y,param_grid,name):\n",
    "    grid_search = GridSearchCV(model, param_grid = param_grid, cv=tss, scoring='r2')\n",
    "    grid_search.fit(X,y)\n",
    "    score = grid_search.best_score_\n",
    "    params_res = grid_search.best_params_\n",
    "    print(name)\n",
    "    print(score)\n",
    "    print(params_res)\n",
    "    return score, params_res\n",
    "    \n",
    "print('R^2 Lasso Based')\n",
    "\n",
    "grids = [lasso_param_grid,ridge_param_grid, RFR_param_grid, KNR_param_grid, DTR_param_grid]\n",
    "models = [lasso, ridge, RFR, KNR, DTR]\n",
    "names = ['Lasso', 'Ridge', 'RandomForestRegressor', 'KNeighborsRegressor', 'DecisionTreeRegressor']\n",
    "\n",
    "scores_lasso = []\n",
    "params_lasso = []\n",
    "time_lst = []\n",
    "\n",
    "for param,model,name in zip(grids,models,names):\n",
    "    start = time.time()\n",
    "    print('---'*7)\n",
    "    res = get_cv_scores(model,X_lasso,y,param,name)\n",
    "    scores_lasso.append(res[0])\n",
    "    params_lasso.append(res[1])\n",
    "    end = time.time()\n",
    "    time_lst.append(end-start)\n",
    "    print('Time:',end-start)"
   ]
  },
  {
   "cell_type": "code",
   "execution_count": 55,
   "metadata": {},
   "outputs": [
    {
     "name": "stdout",
     "output_type": "stream",
     "text": [
      "R^2 kBest Based\n",
      "---------------------\n",
      "Lasso\n",
      "0.8232521615064077\n",
      "{'alpha': 1.1615384615384616}\n",
      "Time: 8.06240200996399\n",
      "---------------------\n",
      "Ridge\n",
      "0.8231493495397979\n",
      "{'alpha': 10, 'solver': 'auto'}\n",
      "Time: 5.216373920440674\n",
      "---------------------\n",
      "RandomForestRegressor\n",
      "0.9108751871085786\n",
      "{'max_depth': 25, 'n_estimators': 200}\n",
      "Time: 403.29882884025574\n",
      "---------------------\n",
      "KNeighborsRegressor\n",
      "0.9175733249507283\n",
      "{'algorithm': 'auto', 'n_neighbors': 20}\n",
      "Time: 116.75669860839844\n",
      "---------------------\n",
      "DecisionTreeRegressor\n",
      "0.8810359461591524\n",
      "{'max_depth': 25}\n",
      "Time: 4.9670281410217285\n"
     ]
    }
   ],
   "source": [
    "print('R^2 kBest Based')\n",
    "scores_kBest = []\n",
    "params_kBest = []\n",
    "\n",
    "for param,model,name in zip(grids,models,names):\n",
    "    start = time.time()\n",
    "    print('---'*7)\n",
    "    res = get_cv_scores(model,X_kBest,y,param,name)\n",
    "    scores_kBest.append(res[0])\n",
    "    params_kBest.append(res[1])\n",
    "    end = time.time()\n",
    "    time_lst.append(end-start)\n",
    "    print('Time:',end-start)"
   ]
  },
  {
   "cell_type": "code",
   "execution_count": 221,
   "metadata": {},
   "outputs": [
    {
     "name": "stdout",
     "output_type": "stream",
     "text": [
      "R^2 No selection\n",
      "---------------------\n",
      "Lasso\n",
      "0.8342423216675373\n",
      "{'alpha': 2.568974358974359}\n",
      "Time: 84.89672183990479\n",
      "---------------------\n",
      "Ridge\n",
      "0.8319725078710023\n",
      "{'alpha': 10, 'solver': 'auto'}\n",
      "Time: 23.112242698669434\n",
      "---------------------\n",
      "RandomForestRegressor\n",
      "0.9459692113278388\n",
      "{'max_depth': 25, 'n_estimators': 100}\n",
      "Time: 1088.0082867145538\n",
      "---------------------\n",
      "KNeighborsRegressor\n",
      "0.5893238944374283\n",
      "{'algorithm': 'auto', 'n_neighbors': 5}\n",
      "Time: 326.5196723937988\n",
      "---------------------\n",
      "DecisionTreeRegressor\n",
      "0.9302245710055328\n",
      "{'max_depth': 20}\n",
      "Time: 14.81476092338562\n"
     ]
    }
   ],
   "source": [
    "import warnings\n",
    "warnings.filterwarnings('ignore')\n",
    "\n",
    "grids = [lasso_param_grid,ridge_param_grid, RFR_param_grid, KNR_param_grid, DTR_param_grid]\n",
    "models = [lasso, ridge, RFR, KNR, DTR]\n",
    "names = ['Lasso', 'Ridge', 'RandomForestRegressor', 'KNeighborsRegressor', 'DecisionTreeRegressor']\n",
    "\n",
    "print('R^2 No selection')\n",
    "scores_no_fs = []\n",
    "params_no_fs = []\n",
    "\n",
    "for param,model,name in zip(grids,models,names):\n",
    "    start = time.time()\n",
    "    print('---'*7)\n",
    "    res = get_cv_scores(model,X,y,param,name)\n",
    "    scores_no_fs.append(res[0])\n",
    "    params_no_fs.append(res[1])\n",
    "    end = time.time()\n",
    "    time_lst.append(end-start)\n",
    "    print('Time:',end-start)"
   ]
  },
  {
   "cell_type": "code",
   "execution_count": 222,
   "metadata": {},
   "outputs": [],
   "source": [
    "scores = scores_lasso + scores_kBest + scores_no_fs\n",
    "models = names + names + names\n",
    "feature_selection = ['lasso']*5 + ['kBest']*5 + ['no_feat_select']*5"
   ]
  },
  {
   "cell_type": "code",
   "execution_count": 228,
   "metadata": {},
   "outputs": [
    {
     "data": {
      "text/html": [
       "<div>\n",
       "<style scoped>\n",
       "    .dataframe tbody tr th:only-of-type {\n",
       "        vertical-align: middle;\n",
       "    }\n",
       "\n",
       "    .dataframe tbody tr th {\n",
       "        vertical-align: top;\n",
       "    }\n",
       "\n",
       "    .dataframe thead th {\n",
       "        text-align: right;\n",
       "    }\n",
       "</style>\n",
       "<table border=\"1\" class=\"dataframe\">\n",
       "  <thead>\n",
       "    <tr style=\"text-align: right;\">\n",
       "      <th></th>\n",
       "      <th>R^2</th>\n",
       "      <th>name</th>\n",
       "      <th>feature_selection</th>\n",
       "    </tr>\n",
       "  </thead>\n",
       "  <tbody>\n",
       "    <tr>\n",
       "      <th>0</th>\n",
       "      <td>0.834965</td>\n",
       "      <td>Lasso</td>\n",
       "      <td>lasso</td>\n",
       "    </tr>\n",
       "    <tr>\n",
       "      <th>1</th>\n",
       "      <td>0.834915</td>\n",
       "      <td>Ridge</td>\n",
       "      <td>lasso</td>\n",
       "    </tr>\n",
       "    <tr>\n",
       "      <th>2</th>\n",
       "      <td>0.918298</td>\n",
       "      <td>RandomForestRegressor</td>\n",
       "      <td>lasso</td>\n",
       "    </tr>\n",
       "    <tr>\n",
       "      <th>3</th>\n",
       "      <td>0.919215</td>\n",
       "      <td>KNeighborsRegressor</td>\n",
       "      <td>lasso</td>\n",
       "    </tr>\n",
       "    <tr>\n",
       "      <th>4</th>\n",
       "      <td>0.904867</td>\n",
       "      <td>DecisionTreeRegressor</td>\n",
       "      <td>lasso</td>\n",
       "    </tr>\n",
       "    <tr>\n",
       "      <th>5</th>\n",
       "      <td>0.823252</td>\n",
       "      <td>Lasso</td>\n",
       "      <td>kBest</td>\n",
       "    </tr>\n",
       "    <tr>\n",
       "      <th>6</th>\n",
       "      <td>0.823149</td>\n",
       "      <td>Ridge</td>\n",
       "      <td>kBest</td>\n",
       "    </tr>\n",
       "    <tr>\n",
       "      <th>7</th>\n",
       "      <td>0.910875</td>\n",
       "      <td>RandomForestRegressor</td>\n",
       "      <td>kBest</td>\n",
       "    </tr>\n",
       "    <tr>\n",
       "      <th>8</th>\n",
       "      <td>0.917573</td>\n",
       "      <td>KNeighborsRegressor</td>\n",
       "      <td>kBest</td>\n",
       "    </tr>\n",
       "    <tr>\n",
       "      <th>9</th>\n",
       "      <td>0.881036</td>\n",
       "      <td>DecisionTreeRegressor</td>\n",
       "      <td>kBest</td>\n",
       "    </tr>\n",
       "    <tr>\n",
       "      <th>10</th>\n",
       "      <td>0.834242</td>\n",
       "      <td>Lasso</td>\n",
       "      <td>no_feat_select</td>\n",
       "    </tr>\n",
       "    <tr>\n",
       "      <th>11</th>\n",
       "      <td>0.831973</td>\n",
       "      <td>Ridge</td>\n",
       "      <td>no_feat_select</td>\n",
       "    </tr>\n",
       "    <tr>\n",
       "      <th>12</th>\n",
       "      <td>0.945969</td>\n",
       "      <td>RandomForestRegressor</td>\n",
       "      <td>no_feat_select</td>\n",
       "    </tr>\n",
       "    <tr>\n",
       "      <th>13</th>\n",
       "      <td>0.589324</td>\n",
       "      <td>KNeighborsRegressor</td>\n",
       "      <td>no_feat_select</td>\n",
       "    </tr>\n",
       "    <tr>\n",
       "      <th>14</th>\n",
       "      <td>0.930225</td>\n",
       "      <td>DecisionTreeRegressor</td>\n",
       "      <td>no_feat_select</td>\n",
       "    </tr>\n",
       "  </tbody>\n",
       "</table>\n",
       "</div>"
      ],
      "text/plain": [
       "         R^2                   name feature_selection\n",
       "0   0.834965                  Lasso             lasso\n",
       "1   0.834915                  Ridge             lasso\n",
       "2   0.918298  RandomForestRegressor             lasso\n",
       "3   0.919215    KNeighborsRegressor             lasso\n",
       "4   0.904867  DecisionTreeRegressor             lasso\n",
       "5   0.823252                  Lasso             kBest\n",
       "6   0.823149                  Ridge             kBest\n",
       "7   0.910875  RandomForestRegressor             kBest\n",
       "8   0.917573    KNeighborsRegressor             kBest\n",
       "9   0.881036  DecisionTreeRegressor             kBest\n",
       "10  0.834242                  Lasso    no_feat_select\n",
       "11  0.831973                  Ridge    no_feat_select\n",
       "12  0.945969  RandomForestRegressor    no_feat_select\n",
       "13  0.589324    KNeighborsRegressor    no_feat_select\n",
       "14  0.930225  DecisionTreeRegressor    no_feat_select"
      ]
     },
     "execution_count": 228,
     "metadata": {},
     "output_type": "execute_result"
    }
   ],
   "source": [
    "df_fs = pd.DataFrame({'R^2':scores,'name':models,'feature_selection':feature_selection})\n",
    "df_fs"
   ]
  },
  {
   "cell_type": "code",
   "execution_count": 231,
   "metadata": {},
   "outputs": [
    {
     "data": {
      "image/png": "[encoded data removed]",
      "text/plain": [
       "<Figure size 640x480 with 1 Axes>"
      ]
     },
     "metadata": {},
     "output_type": "display_data"
    }
   ],
   "source": [
    "sns.barplot(data=df_fs,x='name',y='R^2',hue='feature_selection')\n",
    "plt.xticks(rotation=45)\n",
    "plt.ylim(0.55, 1)\n",
    "plt.show()"
   ]
  },
  {
   "cell_type": "markdown",
   "metadata": {},
   "source": [
    "for all models Lasso feature selection gave better results than kBest. Feature selection doesn't give growth of score, especially for decision tree (score downgraded), but it accelerates calculation for many time. For KNR model, because of curse of dimensionality, no feature selection model performs much worse"
   ]
  },
  {
   "cell_type": "code",
   "execution_count": 77,
   "metadata": {},
   "outputs": [],
   "source": [
    "def SelectLasso(X,y,num=10):\n",
    "    lasso = LassoCV(cv=10)\n",
    "    lasso.fit(X,y)\n",
    "    coef_abs = np.abs(lasso.coef_)\n",
    "    feature_idx = np.argsort(coef_abs)[::-1][:num]\n",
    "    selected_features = columns[np.unique(feature_idx)]\n",
    "    return X[selected_features], y"
   ]
  },
  {
   "cell_type": "code",
   "execution_count": 178,
   "metadata": {},
   "outputs": [],
   "source": [
    "import xgboost as xgb\n",
    "from sklearn.model_selection import RandomizedSearchCV\n",
    "\n",
    "scores_xgb_lasso = []\n",
    "params_xgb_lasso = []\n",
    "time_xgb_lasso = []\n",
    "\n",
    "\n",
    "feature_nums = [i for i in range(10,120,10)]\n",
    "xgb = xgb.XGBRegressor()\n",
    "\n",
    "XGB_param_grid = params = {\n",
    "        'min_child_weight': [1, 5, 10],\n",
    "        'gamma': [0.5, 1, 1.5, 2, 5],\n",
    "        'subsample': [0.6, 0.8, 1.0],\n",
    "        'colsample_bytree': [0.6, 0.8, 1.0],\n",
    "        'max_depth': [3, 4, 5]\n",
    "        }\n",
    "\n",
    "def get_cv_scores_random(model,X,y,param_grid,name,scoring='r2'):\n",
    "    grid_search = RandomizedSearchCV(model, param_distributions = param_grid, cv=tss, scoring='r2',n_iter=9)\n",
    "    grid_search.fit(X,y)\n",
    "    score = grid_search.best_score_\n",
    "    params_res = grid_search.best_params_\n",
    "    print(name)\n",
    "    print(score)\n",
    "    print(params_res)\n",
    "    return score, params_res"
   ]
  },
  {
   "cell_type": "code",
   "execution_count": 180,
   "metadata": {},
   "outputs": [
    {
     "name": "stdout",
     "output_type": "stream",
     "text": [
      "---------------------\n",
      "num_features: 10\n",
      "XGB\n",
      "0.7131217849190647\n",
      "{'subsample': 0.8, 'min_child_weight': 10, 'max_depth': 4, 'gamma': 0.5, 'colsample_bytree': 0.6}\n",
      "Time: 41.9804892539978\n",
      "---------------------\n",
      "num_features: 20\n",
      "XGB\n",
      "0.9027323674425147\n",
      "{'subsample': 0.6, 'min_child_weight': 10, 'max_depth': 5, 'gamma': 0.5, 'colsample_bytree': 0.8}\n",
      "Time: 48.02964520454407\n",
      "---------------------\n",
      "num_features: 30\n",
      "XGB\n",
      "0.9212820550418644\n",
      "{'subsample': 1.0, 'min_child_weight': 5, 'max_depth': 5, 'gamma': 1, 'colsample_bytree': 1.0}\n",
      "Time: 65.79003763198853\n",
      "---------------------\n",
      "num_features: 40\n",
      "XGB\n",
      "0.9191286531724439\n",
      "{'subsample': 0.8, 'min_child_weight': 1, 'max_depth': 4, 'gamma': 0.5, 'colsample_bytree': 0.8}\n",
      "Time: 73.15975642204285\n",
      "---------------------\n",
      "num_features: 50\n",
      "XGB\n",
      "0.9201022874958518\n",
      "{'subsample': 0.8, 'min_child_weight': 10, 'max_depth': 5, 'gamma': 1, 'colsample_bytree': 0.8}\n",
      "Time: 82.03384280204773\n",
      "---------------------\n",
      "num_features: 60\n",
      "XGB\n",
      "0.919403351132501\n",
      "{'subsample': 0.6, 'min_child_weight': 5, 'max_depth': 5, 'gamma': 5, 'colsample_bytree': 0.6}\n",
      "Time: 85.4609215259552\n",
      "---------------------\n",
      "num_features: 70\n",
      "XGB\n",
      "0.9211883061355222\n",
      "{'subsample': 1.0, 'min_child_weight': 10, 'max_depth': 5, 'gamma': 1.5, 'colsample_bytree': 0.8}\n",
      "Time: 85.81374859809875\n",
      "---------------------\n",
      "num_features: 80\n",
      "XGB\n",
      "0.9195073234699697\n",
      "{'subsample': 0.8, 'min_child_weight': 1, 'max_depth': 5, 'gamma': 1, 'colsample_bytree': 0.8}\n",
      "Time: 138.0348207950592\n",
      "---------------------\n",
      "num_features: 90\n",
      "XGB\n",
      "0.9439723508642484\n",
      "{'subsample': 0.8, 'min_child_weight': 1, 'max_depth': 5, 'gamma': 2, 'colsample_bytree': 0.8}\n",
      "Time: 123.63964486122131\n",
      "---------------------\n",
      "num_features: 100\n",
      "XGB\n",
      "0.9452456817444828\n",
      "{'subsample': 0.8, 'min_child_weight': 1, 'max_depth': 5, 'gamma': 1, 'colsample_bytree': 0.6}\n",
      "Time: 131.48861122131348\n",
      "---------------------\n",
      "num_features: 110\n",
      "XGB\n",
      "0.9446646551164708\n",
      "{'subsample': 1.0, 'min_child_weight': 5, 'max_depth': 5, 'gamma': 0.5, 'colsample_bytree': 1.0}\n",
      "Time: 141.6421070098877\n"
     ]
    }
   ],
   "source": [
    "for i in feature_nums:\n",
    "    start = time.time()\n",
    "    print('---'*7)\n",
    "    print('num_features:',i)\n",
    "    X_i, y_i = SelectLasso(X,y,i)\n",
    "    res = get_cv_scores_random(xgb,X_i,y_i,XGB_param_grid,'XGB')\n",
    "    scores_xgb_lasso.append(res[0])\n",
    "    params_xgb_lasso.append(res[1])\n",
    "    end = time.time()\n",
    "    time_xgb_lasso.append(end-start)\n",
    "    print('Time:',end-start)"
   ]
  },
  {
   "cell_type": "code",
   "execution_count": 190,
   "metadata": {},
   "outputs": [
    {
     "data": {
      "image/png": "[encoded data removed]",
      "text/plain": [
       "<Figure size 640x480 with 2 Axes>"
      ]
     },
     "metadata": {},
     "output_type": "display_data"
    }
   ],
   "source": [
    "fig, ax1 = plt.subplots()\n",
    "\n",
    "color = 'blue'\n",
    "ax1.set_xlabel('num_features')\n",
    "ax1.set_ylabel('R^2', color = color)\n",
    "ax1.plot(feature_nums, scores_xgb_lasso, color = color,marker='o')\n",
    "ax1.tick_params(axis ='y', labelcolor = color)\n",
    "   \n",
    "ax2 = ax1.twinx()\n",
    "   \n",
    "color = 'green'\n",
    "ax2.set_ylabel('time (s)', color = color)\n",
    "ax2.plot(feature_nums, time_xgb_lasso, marker='o',color = color)\n",
    "ax2.tick_params(axis ='y', labelcolor = color)\n",
    "  \n",
    "plt.title('XGB performance')\n",
    "plt.show()"
   ]
  },
  {
   "cell_type": "code",
   "execution_count": 232,
   "metadata": {},
   "outputs": [
    {
     "name": "stdout",
     "output_type": "stream",
     "text": [
      "---------------------\n",
      "num_features: 10\n",
      "XGB\n",
      "-1120634.2967147913\n",
      "{'subsample': 0.8, 'min_child_weight': 10, 'max_depth': 3, 'gamma': 0.5, 'colsample_bytree': 1.0}\n",
      "Time: 35.20141315460205\n",
      "---------------------\n",
      "num_features: 20\n",
      "XGB\n",
      "-376456.4963141691\n",
      "{'subsample': 1.0, 'min_child_weight': 1, 'max_depth': 5, 'gamma': 5, 'colsample_bytree': 1.0}\n",
      "Time: 52.94738006591797\n",
      "---------------------\n",
      "num_features: 30\n",
      "XGB\n",
      "-314172.2691350163\n",
      "{'subsample': 0.8, 'min_child_weight': 10, 'max_depth': 5, 'gamma': 0.5, 'colsample_bytree': 1.0}\n",
      "Time: 66.21245408058167\n",
      "---------------------\n",
      "num_features: 40\n",
      "XGB\n",
      "-312047.99556948466\n",
      "{'subsample': 0.8, 'min_child_weight': 5, 'max_depth': 5, 'gamma': 0.5, 'colsample_bytree': 0.6}\n",
      "Time: 75.05686902999878\n",
      "---------------------\n",
      "num_features: 50\n",
      "XGB\n",
      "-306133.64884075226\n",
      "{'subsample': 1.0, 'min_child_weight': 5, 'max_depth': 5, 'gamma': 0.5, 'colsample_bytree': 0.8}\n",
      "Time: 89.39479327201843\n",
      "---------------------\n",
      "num_features: 60\n",
      "XGB\n",
      "-312578.1375506637\n",
      "{'subsample': 0.8, 'min_child_weight': 10, 'max_depth': 5, 'gamma': 5, 'colsample_bytree': 1.0}\n",
      "Time: 100.8296377658844\n",
      "---------------------\n",
      "num_features: 70\n",
      "XGB\n",
      "-307093.83773342514\n",
      "{'subsample': 1.0, 'min_child_weight': 1, 'max_depth': 5, 'gamma': 2, 'colsample_bytree': 1.0}\n",
      "Time: 112.22184562683105\n",
      "---------------------\n",
      "num_features: 80\n",
      "XGB\n",
      "-302479.18537341675\n",
      "{'subsample': 1.0, 'min_child_weight': 5, 'max_depth': 5, 'gamma': 1, 'colsample_bytree': 0.6}\n",
      "Time: 110.66469120979309\n",
      "---------------------\n",
      "num_features: 90\n",
      "XGB\n",
      "-220616.91780394837\n",
      "{'subsample': 0.6, 'min_child_weight': 10, 'max_depth': 5, 'gamma': 0.5, 'colsample_bytree': 1.0}\n",
      "Time: 124.85959959030151\n",
      "---------------------\n",
      "num_features: 100\n",
      "XGB\n",
      "-218919.55060174727\n",
      "{'subsample': 1.0, 'min_child_weight': 1, 'max_depth': 4, 'gamma': 1.5, 'colsample_bytree': 0.8}\n",
      "Time: 117.8551914691925\n",
      "---------------------\n",
      "num_features: 110\n",
      "XGB\n",
      "-212057.3011861003\n",
      "{'subsample': 1.0, 'min_child_weight': 1, 'max_depth': 5, 'gamma': 1.5, 'colsample_bytree': 1.0}\n",
      "Time: 157.87111496925354\n"
     ]
    }
   ],
   "source": [
    "def get_cv_scores_random(model,X,y,param_grid,name,scoring='r2'):\n",
    "    grid_search = RandomizedSearchCV(model, param_distributions = param_grid, cv=tss, scoring=scoring,n_iter=9)\n",
    "    grid_search.fit(X,y)\n",
    "    score = grid_search.best_score_\n",
    "    params_res = grid_search.best_params_\n",
    "    print(name)\n",
    "    print(score)\n",
    "    print(params_res)\n",
    "    return score, params_res\n",
    "\n",
    "xgb_mse_score = []\n",
    "time_xgb_mse = []\n",
    "params_xgb_mse = []\n",
    "\n",
    "for i in feature_nums:\n",
    "    start = time.time()\n",
    "    print('---'*7)\n",
    "    print('num_features:',i)\n",
    "    X_i, y_i = SelectLasso(X,y,i)\n",
    "    res = get_cv_scores_random(xgb,X_i,y_i,XGB_param_grid,'XGB',scoring='neg_mean_squared_error')\n",
    "    xgb_mse_score.append(res[0])\n",
    "    params_xgb_mse.append(res[1])\n",
    "    end = time.time()\n",
    "    time_xgb_mse.append(end-start)\n",
    "    print('Time:',end-start)\n"
   ]
  },
  {
   "cell_type": "code",
   "execution_count": 234,
   "metadata": {},
   "outputs": [
    {
     "data": {
      "image/png": "[encoded data removed]",
      "text/plain": [
       "<Figure size 640x480 with 2 Axes>"
      ]
     },
     "metadata": {},
     "output_type": "display_data"
    }
   ],
   "source": [
    "fig, ax1 = plt.subplots()\n",
    "\n",
    "color = 'blue'\n",
    "ax1.set_xlabel('num_features')\n",
    "ax1.set_ylabel('MSE', color = color)\n",
    "ax1.plot(feature_nums, np.abs(xgb_mse_score), color = color,marker='o')\n",
    "ax1.tick_params(axis ='y', labelcolor = color)\n",
    "   \n",
    "ax2 = ax1.twinx()\n",
    "   \n",
    "color = 'green'\n",
    "ax2.set_ylabel('time (s)', color = color)\n",
    "ax2.plot(feature_nums, time_xgb_mse, marker='o',color = color)\n",
    "ax2.tick_params(axis ='y', labelcolor = color)\n",
    "  \n",
    "plt.title('XGB performance')\n",
    "plt.show()"
   ]
  },
  {
   "cell_type": "code",
   "execution_count": null,
   "metadata": {},
   "outputs": [],
   "source": [
    " "
   ]
  }
 ],
 "metadata": {
  "colab": {
   "collapsed_sections": [],
   "name": "Homework1.ipynb",
   "provenance": []
  },
  "kernelspec": {
   "display_name": "Python 3 (ipykernel)",
   "language": "python",
   "name": "python3"
  },
  "language_info": {
   "codemirror_mode": {
    "name": "ipython",
    "version": 3
   },
   "file_extension": ".py",
   "mimetype": "text/x-python",
   "name": "python",
   "nbconvert_exporter": "python",
   "pygments_lexer": "ipython3",
   "version": "3.10.9"
  }
 },
 "nbformat": 4,
 "nbformat_minor": 1
}
